{
 "cells": [
  {
   "cell_type": "code",
   "execution_count": null,
   "id": "acd999df",
   "metadata": {},
   "outputs": [],
   "source": [
    "import pandas as pd\n",
    "from sklearn.cluster import KMeans, DBSCAN, AgglomerativeClustering, Birch, MiniBatchKMeans, SpectralClustering\n",
    "from sklearn.mixture import GaussianMixture\n",
    "from sklearn.preprocessing import StandardScaler\n",
    "import hdbscan\n",
    "from minisom import MiniSom\n",
    "import numpy as np"
   ]
  },
  {
   "cell_type": "markdown",
   "id": "af127651",
   "metadata": {},
   "source": [
    "# Create clster"
   ]
  },
  {
   "cell_type": "code",
   "execution_count": null,
   "id": "cdd2cf45",
   "metadata": {},
   "outputs": [],
   "source": [
    "def add_clusters(df: pd.DataFrame, features: list[str], method: str, cluster_col: str = None, **kwargs) -> pd.DataFrame:\n",
    "    \"\"\"\n",
    "    Добавляет кластерные метки в DataFrame без повторного масштабирования (предполагается, что данные уже нормализованы).\n",
    "    \"\"\"\n",
    "    X = df[features].values  # используем как есть\n",
    "    method = method.lower()\n",
    "    cluster_col = cluster_col or f\"cluster_{method}\"\n",
    "\n",
    "    if method == \"kmeans\":\n",
    "        model = KMeans(**kwargs)\n",
    "        labels = model.fit_predict(X)\n",
    "\n",
    "    elif method == \"dbscan\":\n",
    "        model = DBSCAN(**kwargs)\n",
    "        labels = model.fit_predict(X)\n",
    "\n",
    "    elif method == \"agglomerative\":\n",
    "        model = AgglomerativeClustering(**kwargs)\n",
    "        labels = model.fit_predict(X)\n",
    "\n",
    "    elif method == \"gmm\":\n",
    "        model = GaussianMixture(**kwargs)\n",
    "        labels = model.fit_predict(X)\n",
    "\n",
    "    elif method == \"birch\":\n",
    "        model = Birch(**kwargs)\n",
    "        labels = model.fit_predict(X)\n",
    "\n",
    "    elif method == \"hdbscan\":\n",
    "        import hdbscan\n",
    "        model = hdbscan.HDBSCAN(**kwargs)\n",
    "        labels = model.fit_predict(X)\n",
    "\n",
    "    elif method == \"spectral\":\n",
    "        model = SpectralClustering(**kwargs)\n",
    "        labels = model.fit_predict(X)\n",
    "\n",
    "    elif method == \"minibatch_kmeans\":\n",
    "        model = MiniBatchKMeans(**kwargs)\n",
    "        labels = model.fit_predict(X)\n",
    "\n",
    "    elif method == \"som\":\n",
    "        from minisom import MiniSom\n",
    "        som_x = kwargs.get(\"x\", 4)\n",
    "        som_y = kwargs.get(\"y\", 4)\n",
    "        sigma = kwargs.get(\"sigma\", 1.0)\n",
    "        learning_rate = kwargs.get(\"learning_rate\", 0.5)\n",
    "        som = MiniSom(som_x, som_y, X.shape[1], sigma=sigma, learning_rate=learning_rate)\n",
    "        som.random_weights_init(X)\n",
    "        som.train_random(X, 100)\n",
    "        labels = [som.winner(x)[0] * som_y + som.winner(x)[1] for x in X]\n",
    "\n",
    "    else:\n",
    "        raise ValueError(f\"Unknown clustering method: {method}\")\n",
    "\n",
    "    df = df.copy()\n",
    "    df[cluster_col] = labels\n",
    "    return df\n"
   ]
  },
  {
   "cell_type": "markdown",
   "id": "aa6ff803",
   "metadata": {},
   "source": [
    "# Safe cluster"
   ]
  },
  {
   "cell_type": "code",
   "execution_count": null,
   "id": "8b4e80a9",
   "metadata": {},
   "outputs": [],
   "source": [
    "df = pd.read_csv(\"scoring_data.csv\")\n",
    "\n",
    "features = [\"income\", \"loan_amount\", \"age\"]\n",
    "\n",
    "df_kmeans = add_clusters(df, features, method=\"kmeans\", n_clusters=4)\n",
    "\n",
    "df_dbscan = add_clusters(df, features, method=\"dbscan\", eps=0.5, min_samples=5)\n",
    "\n",
    "df_hdb = add_clusters(df, features, method=\"hdbscan\", min_cluster_size=10)\n",
    "\n",
    "df_som = add_clusters(df, features, method=\"som\", x=4, y=4)\n"
   ]
  }
 ],
 "metadata": {
  "kernelspec": {
   "display_name": "labelImg-hxmxJVXI",
   "language": "python",
   "name": "python3"
  },
  "language_info": {
   "codemirror_mode": {
    "name": "ipython",
    "version": 3
   },
   "file_extension": ".py",
   "mimetype": "text/x-python",
   "name": "python",
   "nbconvert_exporter": "python",
   "pygments_lexer": "ipython3",
   "version": "3.12.3"
  }
 },
 "nbformat": 4,
 "nbformat_minor": 5
}
